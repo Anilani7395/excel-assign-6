{
 "cells": [
  {
   "cell_type": "markdown",
   "id": "f8c06c3a",
   "metadata": {},
   "source": [
    "1) the following are the elements of the excel interface\n",
    "*file tab\n",
    "*quick access\n",
    "*title bar\n",
    "*menu bar\n",
    "*ribbon \n",
    "*cells\n",
    "*name box\n",
    "*row headers\n",
    "*status bar"
   ]
  },
  {
   "cell_type": "markdown",
   "id": "bdf116fc",
   "metadata": {},
   "source": [
    "2)the various applications of excel in the industry are\n",
    "*data managment\n",
    "*programming\n",
    "*charting and graphing\n",
    "*data entry\n",
    "*finaancial analysis"
   ]
  },
  {
   "cell_type": "markdown",
   "id": "59706c67",
   "metadata": {},
   "source": [
    "3)control+B :- applies bold font formatting to headers\n",
    "control+1:-opens format cells dialog box\n",
    "alt+H+B+T:-gives an outline border to the default\n",
    "Alt+H+B+A:-applies borders to the cell\n",
    "Alt+H+O+W:-autofits column widths"
   ]
  },
  {
   "cell_type": "markdown",
   "id": "2e6f7d7d",
   "metadata": {},
   "source": [
    "4)excel is easier to learn and frequency program for repeating and has speed and effiecency.but other analytical tools are designed in a way to handle larger datasets and to create more detailed visualizations"
   ]
  }
 ],
 "metadata": {
  "kernelspec": {
   "display_name": "Python 3 (ipykernel)",
   "language": "python",
   "name": "python3"
  },
  "language_info": {
   "codemirror_mode": {
    "name": "ipython",
    "version": 3
   },
   "file_extension": ".py",
   "mimetype": "text/x-python",
   "name": "python",
   "nbconvert_exporter": "python",
   "pygments_lexer": "ipython3",
   "version": "3.9.13"
  }
 },
 "nbformat": 4,
 "nbformat_minor": 5
}
